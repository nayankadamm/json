{
 "cells": [
  {
   "cell_type": "markdown",
   "metadata": {},
   "source": [
    "### Read Inventory"
   ]
  },
  {
   "cell_type": "code",
   "execution_count": 1,
   "metadata": {},
   "outputs": [],
   "source": [
    "import json"
   ]
  },
  {
   "cell_type": "code",
   "execution_count": 2,
   "metadata": {},
   "outputs": [],
   "source": [
    "fd = open(\"Record.json\",\"r\")\n",
    "txt = fd.read()\n",
    "fd.close()"
   ]
  },
  {
   "cell_type": "markdown",
   "metadata": {},
   "source": [
    "Converting str to dict"
   ]
  },
  {
   "cell_type": "code",
   "execution_count": 3,
   "metadata": {
    "scrolled": true
   },
   "outputs": [],
   "source": [
    "record = json.loads(txt)"
   ]
  },
  {
   "cell_type": "markdown",
   "metadata": {},
   "source": [
    "### Purchasing"
   ]
  },
  {
   "cell_type": "code",
   "execution_count": 4,
   "metadata": {
    "scrolled": true
   },
   "outputs": [
    {
     "name": "stdout",
     "output_type": "stream",
     "text": [
      "Enter product id: \n",
      "1\n",
      "Enter quantity: \n",
      "10\n",
      "**********************\n",
      "Product:  notebook\n",
      "MRP:  20\n",
      "----------------------\n",
      "Billing Amount:  200\n",
      "**********************\n"
     ]
    }
   ],
   "source": [
    "ui_prod_id = str(input(\"Enter product id: \\n\"))\n",
    "ui_quantity = int(input(\"Enter quantity: \\n\"))\n",
    "\n",
    "print(\"**********************\")\n",
    "print(\"Product: \",record[ui_prod_id][\"Prod_Name\"])\n",
    "print(\"MRP: \",record[ui_prod_id][\"MRP\"])\n",
    "print(\"----------------------\")\n",
    "print(\"Billing Amount: \",record[ui_prod_id][\"MRP\"]*ui_quantity)\n",
    "print(\"**********************\")\n",
    "\n",
    "record[ui_prod_id][\"Qty\"] = record[ui_prod_id][\"Qty\"] - ui_quantity"
   ]
  },
  {
   "cell_type": "markdown",
   "metadata": {},
   "source": [
    "### Updating Inventory after purchase"
   ]
  },
  {
   "cell_type": "code",
   "execution_count": 5,
   "metadata": {},
   "outputs": [],
   "source": [
    "jd = json.dumps(record)\n",
    "fd = open(\"Record.json\",\"w\")\n",
    "fd.write(jd)\n",
    "fd.close()"
   ]
  },
  {
   "cell_type": "markdown",
   "metadata": {},
   "source": [
    "### Sales JSON"
   ]
  },
  {
   "cell_type": "code",
   "execution_count": 6,
   "metadata": {},
   "outputs": [],
   "source": [
    "sales = {1:{'Prod_Name':record[ui_prod_id][\"Prod_Name\"],\"Qty\":ui_quantity,\"MRP\":record[ui_prod_id][\"MRP\"]*ui_quantity,\"Exp.date\":record[ui_prod_id][\"Exp\"]}}"
   ]
  },
  {
   "cell_type": "code",
   "execution_count": 7,
   "metadata": {},
   "outputs": [],
   "source": [
    "sales[len(sales)+1] = {'Prod_Name':record[ui_prod_id][\"Prod_Name\"],\"Qty\":ui_quantity,\"MRP\":record[ui_prod_id][\"MRP\"]*ui_quantity,\"Exp.date\":record[ui_prod_id][\"Exp\"]}"
   ]
  },
  {
   "cell_type": "code",
   "execution_count": 8,
   "metadata": {},
   "outputs": [
    {
     "data": {
      "text/plain": [
       "{1: {'Prod_Name': 'notebook', 'Qty': 10, 'MRP': 200, 'Exp.date': '---'},\n",
       " 2: {'Prod_Name': 'notebook', 'Qty': 10, 'MRP': 200, 'Exp.date': '---'}}"
      ]
     },
     "execution_count": 8,
     "metadata": {},
     "output_type": "execute_result"
    }
   ],
   "source": [
    "sales"
   ]
  },
  {
   "cell_type": "markdown",
   "metadata": {},
   "source": [
    "### Total Profit"
   ]
  },
  {
   "cell_type": "code",
   "execution_count": 9,
   "metadata": {},
   "outputs": [
    {
     "name": "stdout",
     "output_type": "stream",
     "text": [
      "Today's Total profit =  400\n"
     ]
    }
   ],
   "source": [
    "total_profit = 0\n",
    "for i in sales:\n",
    "    total_profit += sales[i][\"MRP\"]\n",
    "print(\"Today's Total profit = \",total_profit)"
   ]
  },
  {
   "cell_type": "code",
   "execution_count": 11,
   "metadata": {},
   "outputs": [],
   "source": [
    "sd = json.dumps(sales)"
   ]
  },
  {
   "cell_type": "code",
   "execution_count": 12,
   "metadata": {
    "scrolled": true
   },
   "outputs": [
    {
     "data": {
      "text/plain": [
       "'{\"1\": {\"Prod_Name\": \"notebook\", \"Qty\": 10, \"MRP\": 200, \"Exp.date\": \"---\"}, \"2\": {\"Prod_Name\": \"notebook\", \"Qty\": 10, \"MRP\": 200, \"Exp.date\": \"---\"}}'"
      ]
     },
     "execution_count": 12,
     "metadata": {},
     "output_type": "execute_result"
    }
   ],
   "source": [
    "sd"
   ]
  },
  {
   "cell_type": "code",
   "execution_count": 13,
   "metadata": {},
   "outputs": [],
   "source": [
    "fd = open(\"Sales.json\",\"w\")\n",
    "fd.write(sd)\n",
    "fd.close()"
   ]
  },
  {
   "cell_type": "code",
   "execution_count": null,
   "metadata": {},
   "outputs": [],
   "source": []
  }
 ],
 "metadata": {
  "kernelspec": {
   "display_name": "Python 3",
   "language": "python",
   "name": "python3"
  },
  "language_info": {
   "codemirror_mode": {
    "name": "ipython",
    "version": 3
   },
   "file_extension": ".py",
   "mimetype": "text/x-python",
   "name": "python",
   "nbconvert_exporter": "python",
   "pygments_lexer": "ipython3",
   "version": "3.8.5"
  }
 },
 "nbformat": 4,
 "nbformat_minor": 5
}
